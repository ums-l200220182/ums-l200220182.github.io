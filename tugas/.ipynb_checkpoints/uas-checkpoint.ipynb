{
 "cells": [
  {
   "cell_type": "code",
   "execution_count": 6,
   "id": "a0881b76-5830-413a-b78a-7d31776d562b",
   "metadata": {},
   "outputs": [],
   "source": [
    "import re\n",
    "import pandas as pd\n",
    "\n",
    "# Baca file teks hasil eksport\n",
    "file_path = \"PrakDwdm.csv\"\n",
    "with open(file_path, \"r\", encoding=\"utf-8\") as file:\n",
    "    lines = file.readlines()\n",
    "\n",
    "# Regex untuk memisahkan tanggal, waktu, pengirim, dan pesan\n",
    "pattern = r\"(\\d{1,2}/\\d{1,2}/\\d{2,4}) (\\d{1,2}\\.\\d{2}) - ([^:]+): (.+)\"\n",
    "\n",
    "# Parsing data\n",
    "data = []\n",
    "for line in lines:\n",
    "    match = re.match(pattern, line)\n",
    "    if match:\n",
    "        date, time, sender, message = match.groups()\n",
    "        data.append({\"Date\": date, \"Time\": time, \"pengirim\": pengirim, \"pesan\": message})\n",
    "\n",
    "# Buat DataFrame\n",
    "df = pd.DataFrame(data)\n",
    "\n",
    "# Simpan ke file CSV\n",
    "csv_file = \"cleaned.csv\"\n",
    "df.to_csv(csv_file, index=False)"
   ]
  },
  {
   "cell_type": "code",
   "execution_count": 7,
   "id": "483ad6b7-8246-4c61-98bf-31b3ed48b9cd",
   "metadata": {},
   "outputs": [
    {
     "data": {
      "image/png": "[encoded data removed]",
      "text/plain": [
       "<Figure size 640x480 with 1 Axes>"
      ]
     },
     "metadata": {},
     "output_type": "display_data"
    }
   ],
   "source": [
    "from sklearn.feature_extraction.text import TfidfVectorizer\n",
    "from sklearn.cluster import KMeans\n",
    "import matplotlib.pyplot as plt\n",
    "\n",
    "# Load data dari CSV\n",
    "df = pd.read_csv(\"cleaned.csv\")\n",
    "\n",
    "# Menggunakan kolom 'Message' untuk clustering\n",
    "messages = df['Message'].fillna(\"\")\n",
    "\n",
    "# Konversi pesan menjadi vektor TF-IDF\n",
    "vectorizer = TfidfVectorizer(stop_words=\"english\", max_features=1000)\n",
    "X = vectorizer.fit_transform(messages)\n",
    "\n",
    "# Buat model K-Means dengan 3 kluster\n",
    "kmeans = KMeans(n_clusters=3, random_state=42)\n",
    "df['Cluster'] = kmeans.fit_predict(X)\n",
    "\n",
    "# Simpan hasil clustering ke file baru\n",
    "df.to_csv(\"cluster.csv\", index=False)\n",
    "\n",
    "# Visualisasi jumlah pesan per kluster\n",
    "df['Cluster'].value_counts().plot(kind=\"bar\", color=['red', 'blue', 'green'])\n",
    "plt.title(\"Jumlah Pesan per Kluster\")\n",
    "plt.xlabel(\"Kluster\")\n",
    "plt.ylabel(\"Jumlah Pesan\")\n",
    "plt.show()"
   ]
  },
  {
   "cell_type": "code",
   "execution_count": 8,
   "id": "1e46737d-f448-49f9-acc0-b7bd67636edd",
   "metadata": {},
   "outputs": [
    {
     "name": "stdout",
     "output_type": "stream",
     "text": [
      "Kluster 0: [('ini', 8), ('ya', 7), ('Pesan', 5)]\n",
      "Kluster 1: [('Assalamualaikum', 12), ('Wr.', 9), ('Wb', 7)]\n",
      "Kluster 2: [('<Media', 16), ('tidak', 16), ('disertakan>', 16)]\n"
     ]
    }
   ],
   "source": [
    "from collections import Counter\n",
    "\n",
    "# Mendapatkan 3 kata teratas untuk setiap kluster\n",
    "for cluster_id in range(3):  # Ganti dengan jumlah kluster\n",
    "    # Mengambil pesan-pesan dari kluster tertentu\n",
    "    cluster_messages = df[df['Cluster'] == cluster_id]['Message']\n",
    "    \n",
    "    # Mengonversi pesan menjadi string dan mengganti NaN dengan string kosong\n",
    "    cluster_messages = cluster_messages.fillna(\"\").astype(str)\n",
    "    \n",
    "    # Menggabungkan semua pesan dalam kluster menjadi satu string dan memisahkannya menjadi kata-kata\n",
    "    all_words = \" \".join(cluster_messages).split()\n",
    "    \n",
    "    # Mendapatkan 3 kata teratas menggunakan Counter\n",
    "    most_common_words = Counter(all_words).most_common(3)\n",
    "    \n",
    "    # Menampilkan hasil\n",
    "    print(f\"Kluster {cluster_id}: {most_common_words}\")"
   ]
  },
  {
   "cell_type": "code",
   "execution_count": 9,
   "id": "e6cbd32b-3eab-4333-be28-338971f9e73b",
   "metadata": {},
   "outputs": [],
   "source": [
    "analysis_data = {\n",
    "    \"Kluster\": [0, 1, 2],\n",
    "    \"Analisis\": [\n",
    "        \"pesan berisi kata 'ini', 'ya', 'pesan'\",\n",
    "        \"pesan berisi kata 'Assalamualaikum', 'wr', 'wb\",\n",
    "        \"media yang tidak disertakan'.\"\n",
    "    ]\n",
    "}\n",
    "\n",
    "analysis_df = pd.DataFrame(analysis_data)\n",
    "analysis_df.to_csv(\"hasil.csv\", index=False)"
   ]
  },
  {
   "cell_type": "code",
   "execution_count": null,
   "id": "055c4e73-b37a-43e5-91c0-c5c7ea926c10",
   "metadata": {},
   "outputs": [],
   "source": []
  }
 ],
 "metadata": {
  "kernelspec": {
   "display_name": "Python 3 (ipykernel)",
   "language": "python",
   "name": "python3"
  },
  "language_info": {
   "codemirror_mode": {
    "name": "ipython",
    "version": 3
   },
   "file_extension": ".py",
   "mimetype": "text/x-python",
   "name": "python",
   "nbconvert_exporter": "python",
   "pygments_lexer": "ipython3",
   "version": "3.11.4"
  }
 },
 "nbformat": 4,
 "nbformat_minor": 5
}
